{
 "cells": [
  {
   "attachments": {},
   "cell_type": "markdown",
   "metadata": {},
   "source": [
    "# Crop Disease Predictor Model Training"
   ]
  },
  {
   "cell_type": "code",
   "execution_count": 2,
   "metadata": {},
   "outputs": [],
   "source": [
    "# Importing the Necessary libraries for training model on image data using Keras.\n",
    "\n",
    "import keras                                                 # high-level API for building and training deep learning models\n",
    "from keras.preprocessing.image import ImageDataGenerator     # keras.preprocessing.image: provides image preprocessing utilities, \n",
    "                                                             # ImageDataGenerator: loading and augmenting image data on-the-fly\n",
    "from keras.optimizers import Adam                            # keras.optimizers: provides a set of optimization algorithms, \n",
    "                                                             # Adam: an optimization algorithm that uses adaptive learning rates\n",
    "from keras.callbacks import ModelCheckpoint                  # keras.callbacks: provides a set of callback functions, \n",
    "                                                             # ModelCheckpoint: a callback that saves the model's weights during training if the validation loss improves\n",
    "\n",
    "import matplotlib.pyplot as plt                              # matplotlib.pyplot: plotting library for generating visualizations "
   ]
  },
  {
   "cell_type": "code",
   "execution_count": 3,
   "metadata": {},
   "outputs": [],
   "source": [
    "# Define the path of Training and Validation Datasets\n",
    "\n",
    "train_data_path = r\"E:\\SAP\\Innovation Marathon\\Project\\train_test_val_data\\train\"\n",
    "validation_data_path = r\"E:\\SAP\\Innovation Marathon\\Project\\train_test_val_data\\val\""
   ]
  },
  {
   "cell_type": "code",
   "execution_count": 4,
   "metadata": {},
   "outputs": [],
   "source": [
    "# Define a function to plot a set of images i.e. show augmented images\n",
    "def plotImages(images_arr):\n",
    "    fig, axes = plt.subplots(1, 5, figsize=(20, 20))\n",
    "    axes = axes.flatten()\n",
    "    for img, ax in zip(images_arr, axes):\n",
    "        ax.imshow(img)\n",
    "    plt.tight_layout()\n",
    "    plt.show()"
   ]
  },
  {
   "cell_type": "code",
   "execution_count": 5,
   "metadata": {},
   "outputs": [
    {
     "name": "stdout",
     "output_type": "stream",
     "text": [
      "Found 1951 images belonging to 4 classes.\n"
     ]
    }
   ],
   "source": [
    "# Generating Augmented training Images using below parameters\n",
    "training_datagen = ImageDataGenerator(rescale=1./255,\n",
    "                                      rotation_range=40,\n",
    "                                      width_shift_range=0.2,\n",
    "                                      height_shift_range=0.2,\n",
    "                                      shear_range=0.2,\n",
    "                                      zoom_range=0.2,\n",
    "                                      horizontal_flip=True,\n",
    "                                      fill_mode='nearest')\n",
    "\n",
    "# Generator that will read pictures found in train_data_path, and indefinitely generate batches of augmented image data\n",
    "training_data = training_datagen.flow_from_directory(train_data_path, # this is the target directory\n",
    "                                      target_size=(150, 150), # all images will be resized to 150x150\n",
    "                                      batch_size=32,\n",
    "                                      class_mode='binary')  # since we use binary_crossentropy loss, we need binary labels"
   ]
  },
  {
   "cell_type": "code",
   "execution_count": 6,
   "metadata": {},
   "outputs": [
    {
     "data": {
      "text/plain": [
       "{'diseased cotton leaf': 0,\n",
       " 'diseased cotton plant': 1,\n",
       " 'fresh cotton leaf': 2,\n",
       " 'fresh cotton plant': 3}"
      ]
     },
     "execution_count": 6,
     "metadata": {},
     "output_type": "execute_result"
    }
   ],
   "source": [
    "# Mapping each subdirectory in train_data_path to a unique integer label\n",
    "\n",
    "training_data.class_indices"
   ]
  },
  {
   "cell_type": "code",
   "execution_count": null,
   "metadata": {},
   "outputs": [],
   "source": [
    "# Generating Augmented Validation Images using below parameters\n",
    "valid_datagen = ImageDataGenerator(rescale=1./255)\n",
    "\n",
    "# Generator that reads images from a directory and generates batches of validation image data.\n",
    "valid_data = valid_datagen.flow_from_directory(validation_data_path,\n",
    "                                  target_size=(150,150),\n",
    "                                  batch_size=32,\n",
    "                                  class_mode='binary')"
   ]
  },
  {
   "cell_type": "code",
   "execution_count": null,
   "metadata": {},
   "outputs": [],
   "source": [
    "# Genarating 5 augmented images using the training_data and passing this list to the plotImages function to display the images\n",
    "\n",
    "images = [training_data[0][0][0] for i in range(5)]\n",
    "plotImages(images)"
   ]
  },
  {
   "cell_type": "code",
   "execution_count": null,
   "metadata": {},
   "outputs": [],
   "source": [
    "# Save best model using val_accuracy metric\n",
    "model_path = r'E:\\SAP\\Innovation Marathon\\Project\\Trained Model\\cotton_plant_disease_pred_model.h5'\n",
    "checkpoint = ModelCheckpoint(model_path, monitor='val_accuracy', verbose=1, save_best_only=True, mode='max')\n",
    "callbacks_list = [checkpoint]"
   ]
  },
  {
   "cell_type": "code",
   "execution_count": null,
   "metadata": {},
   "outputs": [],
   "source": [
    "# Building CNN model using the Keras Sequential API\n",
    "\n",
    "# Conv2D layers apply a set of learnable filters to the input image, resulting in a feature map\n",
    "# MaxPooling2D layers perform downsampling on the output feature maps\n",
    "# Dropout layers randomly drop out some of the neurons during training\n",
    "# Flatten layer flattens the output feature maps of the last convolutional layer into a 1D vector\n",
    "# Dense layers are fully connected layers that perform classification based on the features extracted by the convolutional layers\n",
    "\n",
    "cnn_model = keras.models.Sequential([\n",
    "                                    keras.layers.Conv2D(filters=32, kernel_size=3, input_shape=[150, 150, 3]),\n",
    "                                    keras.layers.MaxPooling2D(pool_size=(2,2)),\n",
    "                                    keras.layers.Conv2D(filters=64, kernel_size=3),\n",
    "                                    keras.layers.MaxPooling2D(pool_size=(2,2)),\n",
    "                                    keras.layers.Conv2D(filters=128, kernel_size=3),\n",
    "                                    keras.layers.MaxPooling2D(pool_size=(2,2)),                                    \n",
    "                                    keras.layers.Conv2D(filters=256, kernel_size=3),\n",
    "                                    keras.layers.MaxPooling2D(pool_size=(2,2)),\n",
    "\n",
    "                                    keras.layers.Dropout(0.5),                                                                        \n",
    "                                    keras.layers.Flatten(), # neural network beulding\n",
    "                                    keras.layers.Dense(units=128, activation='relu'), # input layers\n",
    "                                    keras.layers.Dropout(0.1),                                    \n",
    "                                    keras.layers.Dense(units=256, activation='relu'),                                    \n",
    "                                    keras.layers.Dropout(0.25),                                    \n",
    "                                    keras.layers.Dense(units=4, activation='softmax') # output layer\n",
    "])\n",
    "\n",
    "\n",
    "# Configure the learning process of the model\n",
    "cnn_model.compile(optimizer = Adam(lr=0.0001), loss='sparse_categorical_crossentropy', metrics=['accuracy'])\n"
   ]
  },
  {
   "cell_type": "code",
   "execution_count": null,
   "metadata": {},
   "outputs": [],
   "source": [
    "# Display summary of the architecture of a CNN model\n",
    "\n",
    "cnn_model.summary()"
   ]
  },
  {
   "cell_type": "code",
   "execution_count": null,
   "metadata": {},
   "outputs": [],
   "source": [
    "# Train the cnn_model using the training_data generator and validate it using the valid_data generator for 500 epochs\n",
    "# callbacks_list is used to save the best model based on validation accuracy\n",
    "\n",
    "history = cnn_model.fit(training_data, \n",
    "                          epochs=500, \n",
    "                          verbose=1, \n",
    "                          validation_data= valid_data,\n",
    "                          callbacks=callbacks_list) "
   ]
  },
  {
   "cell_type": "code",
   "execution_count": null,
   "metadata": {},
   "outputs": [],
   "source": [
    "# Save the Best trained cnn_model\n",
    "\n",
    "best_model_path = r'E:\\SAP\\Innovation Marathon\\Project\\Trained Model\\Best Model\\cotton_plant_disease_pred_best_model.h5'\n",
    "cnn_model.save(best_model_path)"
   ]
  },
  {
   "cell_type": "code",
   "execution_count": null,
   "metadata": {},
   "outputs": [],
   "source": [
    "# Visualize the training and validation performance of the model over each epoch\n",
    "\n",
    "# for history for accuracy\n",
    "plt.plot(history.history['accuracy'])\n",
    "plt.plot(history.history['val_accuracy'])\n",
    "plt.title('model accuracy')\n",
    "plt.ylabel('accuracy')\n",
    "plt.xlabel('epoch')\n",
    "plt.legend(['train', 'test'], loc='upper left')\n",
    "plt.show()\n",
    "# for history for loss\n",
    "plt.plot(history.history['loss'])\n",
    "plt.plot(history.history['val_loss'])\n",
    "plt.title('model loss')\n",
    "plt.ylabel('loss')\n",
    "plt.xlabel('epoch')\n",
    "plt.legend(['train', 'test'], loc='upper left')\n",
    "plt.show()"
   ]
  },
  {
   "cell_type": "code",
   "execution_count": null,
   "metadata": {},
   "outputs": [],
   "source": [
    "# Training and Validation loss and accuracy values at each epoch during the training process\n",
    "\n",
    "history.history"
   ]
  }
 ],
 "metadata": {
  "kernelspec": {
   "display_name": "Python 3",
   "language": "python",
   "name": "python3"
  },
  "language_info": {
   "codemirror_mode": {
    "name": "ipython",
    "version": 3
   },
   "file_extension": ".py",
   "mimetype": "text/x-python",
   "name": "python",
   "nbconvert_exporter": "python",
   "pygments_lexer": "ipython3",
   "version": "3.10.6"
  },
  "orig_nbformat": 4,
  "vscode": {
   "interpreter": {
    "hash": "79339ed4f4c99a99a95b13e740f7a98d06498bbbc7b38ccbf638228d9c716f4a"
   }
  }
 },
 "nbformat": 4,
 "nbformat_minor": 2
}
